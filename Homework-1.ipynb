{
 "cells": [
  {
   "cell_type": "code",
   "execution_count": 1,
   "id": "030f9148",
   "metadata": {},
   "outputs": [],
   "source": [
    "# load packages\n",
    "import pandas as pd\n",
    "from sklearn.feature_extraction import DictVectorizer\n",
    "from sklearn.linear_model import LinearRegression\n",
    "from sklearn.metrics import mean_squared_error"
   ]
  },
  {
   "cell_type": "markdown",
   "id": "0005fe5b",
   "metadata": {},
   "source": [
    "## Homework MLOps 1"
   ]
  },
  {
   "cell_type": "code",
   "execution_count": 2,
   "id": "6d569139",
   "metadata": {},
   "outputs": [],
   "source": [
    "def read_f(file:str) -> pd.DataFrame:\n",
    "    \"\"\"\n",
    "    reads parquet functions and adds column 'duration' (in min)\n",
    "    Arguments:\n",
    "        file: path to file (string)\n",
    "    Returns:\n",
    "        pandas dataframe\n",
    "    \"\"\"\n",
    "    df = pd.read_parquet(file)\n",
    "    df['duration'] = df.dropOff_datetime - df.pickup_datetime\n",
    "    df['duration'] = df.duration.apply(lambda td: td.total_seconds() / 60)\n",
    "    \n",
    "    return df"
   ]
  },
  {
   "cell_type": "code",
   "execution_count": 3,
   "id": "44c16c80",
   "metadata": {},
   "outputs": [],
   "source": [
    "df_train = read_f('./data/fhv_tripdata_2021-01.parquet')"
   ]
  },
  {
   "cell_type": "markdown",
   "id": "3217d536",
   "metadata": {},
   "source": [
    "## Q1"
   ]
  },
  {
   "cell_type": "code",
   "execution_count": 4,
   "id": "a06184a0",
   "metadata": {},
   "outputs": [
    {
     "name": "stdout",
     "output_type": "stream",
     "text": [
      "There are 1154112 records in January.\n"
     ]
    }
   ],
   "source": [
    "print(\"There are {} records in January.\".format(df_train.shape[0]))"
   ]
  },
  {
   "cell_type": "markdown",
   "id": "67be7470",
   "metadata": {},
   "source": [
    "## Q2"
   ]
  },
  {
   "cell_type": "code",
   "execution_count": 5,
   "id": "76c0a5bc",
   "metadata": {},
   "outputs": [
    {
     "name": "stdout",
     "output_type": "stream",
     "text": [
      "The average trip duration is: 19.1672240937939.\n"
     ]
    }
   ],
   "source": [
    "print(\"The average trip duration is: {}.\".format(df_train['duration'].mean()))"
   ]
  },
  {
   "cell_type": "code",
   "execution_count": 6,
   "id": "dde76717",
   "metadata": {},
   "outputs": [],
   "source": [
    "df_train = df_train[(df_train.duration >= 1) & (df_train.duration <= 60)]"
   ]
  },
  {
   "cell_type": "code",
   "execution_count": 7,
   "id": "095cca04",
   "metadata": {},
   "outputs": [
    {
     "data": {
      "text/plain": [
       "(1109826, 8)"
      ]
     },
     "execution_count": 7,
     "metadata": {},
     "output_type": "execute_result"
    }
   ],
   "source": [
    "df_train.shape"
   ]
  },
  {
   "cell_type": "code",
   "execution_count": 8,
   "id": "d2fb5f1d",
   "metadata": {},
   "outputs": [],
   "source": [
    "df_train = df_train.fillna(-1)"
   ]
  },
  {
   "cell_type": "code",
   "execution_count": 9,
   "id": "20f20fbb",
   "metadata": {},
   "outputs": [],
   "source": [
    "df_train.PUlocationID = df_train.PUlocationID.astype(str)"
   ]
  },
  {
   "cell_type": "markdown",
   "id": "07e02029",
   "metadata": {},
   "source": [
    "## Q3"
   ]
  },
  {
   "cell_type": "code",
   "execution_count": 10,
   "id": "e0c9b48e",
   "metadata": {},
   "outputs": [
    {
     "name": "stdout",
     "output_type": "stream",
     "text": [
      "Fraction of missing values: 83.52732770722618.\n"
     ]
    }
   ],
   "source": [
    "print(\"Fraction of missing values: {}.\".format(df_train.PUlocationID.value_counts()[\"-1.0\"]*100/len(df_train)))"
   ]
  },
  {
   "cell_type": "code",
   "execution_count": 11,
   "id": "057c8e97",
   "metadata": {},
   "outputs": [],
   "source": [
    "df_train = df_train[['PUlocationID', 'DOlocationID', 'duration']]"
   ]
  },
  {
   "cell_type": "code",
   "execution_count": 12,
   "id": "a678a64e",
   "metadata": {},
   "outputs": [],
   "source": [
    "categorical = ['PUlocationID', 'DOlocationID']\n",
    "df_train[categorical] = df_train[categorical].astype(str)"
   ]
  },
  {
   "cell_type": "code",
   "execution_count": 13,
   "id": "20f7ef99",
   "metadata": {},
   "outputs": [
    {
     "data": {
      "text/plain": [
       "Index(['PUlocationID', 'DOlocationID', 'duration'], dtype='object')"
      ]
     },
     "execution_count": 13,
     "metadata": {},
     "output_type": "execute_result"
    }
   ],
   "source": [
    "df_train.columns"
   ]
  },
  {
   "cell_type": "code",
   "execution_count": 14,
   "id": "ce1246b9",
   "metadata": {},
   "outputs": [],
   "source": [
    "dv = DictVectorizer()\n",
    "\n",
    "train_dicts = df_train[categorical].to_dict(orient='records')"
   ]
  },
  {
   "cell_type": "code",
   "execution_count": 15,
   "id": "d4b930d8",
   "metadata": {},
   "outputs": [],
   "source": [
    "X_train = dv.fit_transform(train_dicts)"
   ]
  },
  {
   "cell_type": "markdown",
   "id": "8cbfb86d",
   "metadata": {},
   "source": [
    "## Q4"
   ]
  },
  {
   "cell_type": "code",
   "execution_count": 16,
   "id": "d7572407",
   "metadata": {},
   "outputs": [
    {
     "name": "stdout",
     "output_type": "stream",
     "text": [
      "The number of columns is: 525.\n"
     ]
    }
   ],
   "source": [
    "print(\"The number of columns is: {}.\".format(X_train.shape[1]))"
   ]
  },
  {
   "cell_type": "code",
   "execution_count": 17,
   "id": "df0b6866",
   "metadata": {},
   "outputs": [],
   "source": [
    "target = 'duration'\n",
    "y_train = df_train[target].values"
   ]
  },
  {
   "cell_type": "code",
   "execution_count": 18,
   "id": "709d5b57",
   "metadata": {},
   "outputs": [],
   "source": [
    "lr = LinearRegression()\n",
    "lr.fit(X_train, y_train)\n",
    "\n",
    "y_pred = lr.predict(X_train)"
   ]
  },
  {
   "cell_type": "markdown",
   "id": "36ac56c0",
   "metadata": {},
   "source": [
    "## Q5"
   ]
  },
  {
   "cell_type": "code",
   "execution_count": 19,
   "id": "df2a4556",
   "metadata": {},
   "outputs": [
    {
     "name": "stdout",
     "output_type": "stream",
     "text": [
      "RSME on training data is: 10.528519107206316.\n"
     ]
    }
   ],
   "source": [
    "print(\"RSME on training data is: {}.\".format(mean_squared_error(y_train, y_pred, squared=False)))"
   ]
  },
  {
   "cell_type": "code",
   "execution_count": 20,
   "id": "79044497",
   "metadata": {},
   "outputs": [],
   "source": [
    "df_val = read_f('./data/fhv_tripdata_2021-02.parquet')\n",
    "df_val = df_val[(df_val.duration >= 1) & (df_val.duration <= 60)]\n",
    "df_val = df_val[['PUlocationID', 'DOlocationID', 'duration']]\n",
    "df_val = df_val.fillna(-1)\n",
    "df_val[categorical] = df_val[categorical].astype(str)\n",
    "val_dicts = df_val[categorical].to_dict(orient='records')\n",
    "X_val = dv.transform(val_dicts)\n",
    "y_val = df_val[target].values\n",
    "y_pred = lr.predict(X_val)"
   ]
  },
  {
   "cell_type": "markdown",
   "id": "2318e42d",
   "metadata": {},
   "source": [
    "## Q6"
   ]
  },
  {
   "cell_type": "code",
   "execution_count": 21,
   "id": "863bca2f",
   "metadata": {},
   "outputs": [
    {
     "name": "stdout",
     "output_type": "stream",
     "text": [
      "RSME on validation data is: 11.014283149347039.\n"
     ]
    }
   ],
   "source": [
    "print(\"RSME on validation data is: {}.\".format(mean_squared_error(y_val, y_pred, squared=False)))"
   ]
  },
  {
   "cell_type": "code",
   "execution_count": null,
   "id": "a3ad06a0",
   "metadata": {},
   "outputs": [],
   "source": []
  }
 ],
 "metadata": {
  "kernelspec": {
   "display_name": "Python 3 (ipykernel)",
   "language": "python",
   "name": "python3"
  },
  "language_info": {
   "codemirror_mode": {
    "name": "ipython",
    "version": 3
   },
   "file_extension": ".py",
   "mimetype": "text/x-python",
   "name": "python",
   "nbconvert_exporter": "python",
   "pygments_lexer": "ipython3",
   "version": "3.9.12"
  }
 },
 "nbformat": 4,
 "nbformat_minor": 5
}
